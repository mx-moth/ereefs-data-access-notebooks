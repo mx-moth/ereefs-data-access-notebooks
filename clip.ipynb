{
 "cells": [
  {
   "cell_type": "markdown",
   "metadata": {},
   "source": [
    "## Clipping data\n",
    "\n",
    "emsarray provides utilities to clip data to some arbitrary geographic area. Any supported file format can be clipped using an identical API."
   ]
  },
  {
   "cell_type": "code",
   "execution_count": null,
   "metadata": {},
   "outputs": [],
   "source": [
    "import emsarray\n",
    "import shapely.geometry\n",
    "import tempfile"
   ]
  },
  {
   "cell_type": "markdown",
   "metadata": {},
   "source": [
    "Set up the environment..."
   ]
  },
  {
   "cell_type": "code",
   "execution_count": null,
   "metadata": {},
   "outputs": [],
   "source": [
    "# This makes the figures nice and big for this notebook\n",
    "import matplotlib.pyplot as plt\n",
    "plt.rcParams['figure.dpi'] = 100\n",
    "plt.rcParams['savefig.dpi'] = 100\n",
    "\n",
    "# The coastlines used in the maps have some bad polygons,\n",
    "# which causes some warnings. Lets turn those off.\n",
    "import shapefile\n",
    "shapefile.VERBOSE = False"
   ]
  },
  {
   "cell_type": "markdown",
   "metadata": {},
   "source": [
    "\n",
    "To demonstrate the data slicing, we need a custom plot function. Refer to the clip.ipynb notebook for further information about plotting."
   ]
  },
  {
   "cell_type": "code",
   "execution_count": null,
   "metadata": {},
   "outputs": [],
   "source": [
    "import numpy as np\n",
    "from emsarray.plot import bounds_to_extent\n",
    "from matplotlib import patches, pyplot, collections\n",
    "\n",
    "def plot_clipped_on_grid(original, clipped, variable, clip_geometry):\n",
    "    \"\"\"Plot a variable from a clipped dataset\n",
    "    on top of the grid of the entire dataset,\n",
    "    plus the clip polygon\n",
    "    \"\"\"\n",
    "    figure = pyplot.figure(figsize=(10, 8))\n",
    "    clipped.ems.plot_on_figure(figure, variable)\n",
    "    axes = figure.axes[0]\n",
    "\n",
    "    grid_cells = original.ems.make_patch_collection(\n",
    "        edgecolor='grey', linewidth=0.5, facecolor='none', alpha=0.5, zorder=0)\n",
    "    axes.add_collection(grid_cells)\n",
    "\n",
    "    clip_patch = patches.Polygon(\n",
    "        clip_geometry.exterior.coords, edgecolor=\"red\", fill=False, linewidth=2, zorder=10)\n",
    "    axes.add_patch(clip_patch)\n",
    "    \n",
    "    axes.set_extent(bounds_to_extent(clip_geometry.envelope.buffer(0.2).bounds))"
   ]
  },
  {
   "cell_type": "markdown",
   "metadata": {},
   "source": [
    "First, open a dataset and define a clip region. A clip region can be any Shapely geometry. Typically this will be a polygon, but you can also use points, lines, multipolygons, and any other shape.\n",
    "Lets use the GBR4 dataset for this example."
   ]
  },
  {
   "cell_type": "code",
   "execution_count": null,
   "metadata": {},
   "outputs": [],
   "source": [
    "\n",
    "gbr4 = emsarray.open_dataset(\"https://thredds.nci.org.au/thredds/dodsC/fx3/model_data/gbr4_2.0.ncml?zc[0:1:46],longitude[0:1:179][0:1:599],latitude[0:1:179][0:1:599],botz[0:1:179][0:1:599],time[0:1:10],temp[0:1:10][0:1:46][0:1:179][0:1:599]\")\n",
    "whitsundays_clip = shapely.geometry.Polygon([\n",
    "    (147.391621, -20.346789), \n",
    "    (149.892177, -23.045809),\n",
    "    (153.440517, -20.680525),\n",
    "    (151.430263, -18.277805),\n",
    "    (147.391621, -20.346789),\n",
    "])"
   ]
  },
  {
   "cell_type": "markdown",
   "metadata": {},
   "source": [
    "\n",
    "The dataset can be clipped to this region using dataset.ems.clip(...).\n",
    "\n",
    "This operation needs a temporary directory to save intermediate files in to. We use tempfile.TemporaryDirectory() to manage this for us.\n",
    "\n",
    "Before the temporary directory is cleaned up we need to do one of two things. For small datasets or small clip regions we can call dataset.load() to load the entire clipped dataset in to memory. For larger datasets or clip regions that don't fit in to memory, we need to save dataset to a new file using dataset.to_netcdf()."
   ]
  },
  {
   "cell_type": "code",
   "execution_count": null,
   "metadata": {},
   "outputs": [],
   "source": [
    "with tempfile.TemporaryDirectory() as temp_name:\n",
    "    whitsundays = gbr4.ems.clip(whitsundays_clip, temp_name)\n",
    "    whitsundays.load()"
   ]
  },
  {
   "cell_type": "markdown",
   "metadata": {},
   "source": [
    "We can now plot this clipped dataset using th plot_clipped_on_grid() function we defined earlier. The coloured data regions come from the clipped dataset, while the grid lines are taken from the original dataset, to demonstrate what was removed.\n",
    "\n",
    "Any cell that intersects the clip region is selected. All neighbouring cells of these selected cells are added to the selected set, to form a buffer. Every other cell is masked with nan, and the dataset extents trimmed to the minimum bounding region of the clip polygon."
   ]
  },
  {
   "cell_type": "code",
   "execution_count": null,
   "metadata": {},
   "outputs": [],
   "source": [
    "%matplotlib ipympl\n",
    "plot_clipped_on_grid(gbr4, whitsundays.isel(time=0, k=-1), \"temp\", whitsundays_clip)"
   ]
  }
 ],
 "metadata": {
  "kernelspec": {
   "display_name": "Python 3 (ipykernel)",
   "language": "python",
   "name": "python3"
  },
  "language_info": {
   "codemirror_mode": {
    "name": "ipython",
    "version": 3
   },
   "file_extension": ".py",
   "mimetype": "text/x-python",
   "name": "python",
   "nbconvert_exporter": "python",
   "pygments_lexer": "ipython3",
   "version": "3.13.1"
  }
 },
 "nbformat": 4,
 "nbformat_minor": 4
}
