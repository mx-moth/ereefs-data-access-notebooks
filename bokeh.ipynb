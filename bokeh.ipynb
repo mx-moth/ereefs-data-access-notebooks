{
 "cells": [
  {
   "cell_type": "markdown",
   "metadata": {},
   "source": [
    "# Plotting eReefs model results with Bokeh\n",
    "\n",
    "This notebook shows how to draw plots of datasets using Bokeh as the backend. It is adapted from the similar notebook in the [emsarray-notebooks repository](https://github.com/csiro-coasts/emsarray-notebooks/blob/master/bokeh.ipynb).\n",
    "\n",
    "---\n"
   ]
  },
  {
   "cell_type": "code",
   "execution_count": null,
   "metadata": {},
   "outputs": [],
   "source": [
    "import emsarray\n",
    "import numpy as np\n",
    "import pandas as pd\n",
    "from bokeh.io import output_notebook\n",
    "from bokeh.models import LinearColorMapper, ColorBar\n",
    "from bokeh.palettes import Viridis256\n",
    "from bokeh.plotting import figure, show\n",
    "from bokeh.transform import linear_cmap\n",
    "\n",
    "\n",
    "output_notebook()\n",
    "\n",
    "\n",
    "def wgs84_to_web_mercator(data, lon=\"lons\", lat=\"lats\"):\n",
    "    \"\"\"Converts decimal longitude/latitude to Web Mercator format\"\"\"\n",
    "    k = 6378137\n",
    "    data[\"xs\"] = [r * (k * np.pi/180.0) for r in data[\"lons\"]]\n",
    "    data[\"ys\"] = [np.log(np.tan((90 + r) * np.pi/360.0)) * k for r in data[\"lats\"]]\n",
    "    return data\n"
   ]
  },
  {
   "cell_type": "code",
   "execution_count": null,
   "metadata": {},
   "outputs": [],
   "source": [
    "\n",
    "\n",
    "ds = emsarray.open_dataset(\"https://thredds.nci.org.au/thredds/dodsC/fx3/model_data/gbr4_2.0.ncml?zc[0:1:46],longitude[0:1:179][0:1:599],latitude[0:1:179][0:1:599],botz[0:1:179][0:1:599],time[0:1:10],temp[0:1:10][0:1:46][0:1:179][0:1:599]\")\n",
    "ds\n"
   ]
  },
  {
   "cell_type": "code",
   "execution_count": null,
   "metadata": {},
   "outputs": [],
   "source": [
    "temp = ds.ems.ravel(ds['temp'].isel(time=1, k=-1))[ds.ems.mask]\n",
    "\n",
    "# Convert the dataet polygons and the scalar values in to a structure that bokeh can use\n",
    "polygons = ds.ems.polygons[ds.ems.mask]\n",
    "polygon_coords = [np.asarray(p.exterior.coords) for p in polygons]\n",
    "data = wgs84_to_web_mercator({\n",
    "    'lons': [pc[:, 0] for pc in polygon_coords],\n",
    "    'lats': [pc[:, 1] for pc in polygon_coords],\n",
    "    'temp': temp.values,\n",
    "})\n",
    "\n",
    "# Make a Bokeh figure\n",
    "fig = figure(x_axis_type=\"mercator\", y_axis_type=\"mercator\", frame_width=800, frame_height=600)\n",
    "fig.add_tile(tile_source=\"CartoDB Positron\")\n",
    "\n",
    "# # Add the dataset polygons\n",
    "colour = LinearColorMapper(Viridis256, low=np.nanmin(temp.values), high=np.nanmax(temp.values), nan_color=(0, 0, 0, 0))\n",
    "fig.patches(\n",
    "    'xs', 'ys', source=data,\n",
    "    fill_color={'field': 'temp', 'transform': colour},\n",
    "    line_color={'field': 'temp', 'transform': colour})\n",
    "\n",
    "# Add a colour bar\n",
    "cb = ColorBar(color_mapper=colour, title=\"Sea surface temperature\")\n",
    "fig.add_layout(cb, 'right')\n",
    "\n",
    "# Done!\n",
    "show(fig)\n"
   ]
  },
  {
   "cell_type": "markdown",
   "metadata": {},
   "source": [
    "We can also save this output as a .html page with the bokeh library using code like:\n",
    "\n",
    "```python\n",
    "import bokeh.io\n",
    "import bokeh.resources\n",
    "bokeh.io.save(fig, filename='Assets/test_bokeh_plot.html', title='GBR4_H2p0 Sea Surface Temperature', resources=bokeh.resources.CDN)\n",
    "\n",
    "```\n",
    "\n",
    "but that created a positively enormous file in our tests, so we've disabled it here.\n",
    "\n",
    "Similarly, if you are working in an environment where you can install `selenium` and either `geckodriver` for Firefox or `ChromeDriver` for Chromium then you can export your Bokeh plot\n",
    "to a PNG image using code like:\n",
    "\n",
    "```python\n",
    "import bokeh.io\n",
    "bokeh.io.export_png(fig, filename='Assets/test_bokeh_plot.png')\n",
    "```\n",
    "\n",
    "As we were not prepared to try to run a web browser in our Jupyter notebooks, we leave saving these plots as an exercise for the reader.\n",
    "\n",
    "You can find out more about exporting Bokeh plots [here](https://docs.bokeh.org/en/latest/docs/user_guide/output/export.html)"
   ]
  }
 ],
 "metadata": {
  "kernelspec": {
   "display_name": "Python 3 (ipykernel)",
   "language": "python",
   "name": "python3"
  },
  "language_info": {
   "codemirror_mode": {
    "name": "ipython",
    "version": 3
   },
   "file_extension": ".py",
   "mimetype": "text/x-python",
   "name": "python",
   "nbconvert_exporter": "python",
   "pygments_lexer": "ipython3",
   "version": "3.13.1"
  }
 },
 "nbformat": 4,
 "nbformat_minor": 4
}
