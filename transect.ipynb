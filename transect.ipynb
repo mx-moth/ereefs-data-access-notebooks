{
 "cells": [
  {
   "cell_type": "markdown",
   "metadata": {},
   "source": [
    "\n",
    "## Transect plots\n",
    "\n",
    "Plot transects through your dataset. Transects are vertical slices along some path through your dataset.\n",
    "\n",
    "The following is a transect path starting in the Great Sandy Strait near K’gari, heading roughly North out to deeper waters:\n"
   ]
  },
  {
   "cell_type": "markdown",
   "metadata": {},
   "source": [
    "We have borrowed the example heavily from the emsarray notebooks. However, we show below how to perform a transact using the GBR4 data."
   ]
  },
  {
   "cell_type": "code",
   "execution_count": null,
   "metadata": {},
   "outputs": [],
   "source": [
    "import emsarray as ems\n",
    "import shapely\n",
    "from emsarray import plot, transect\n",
    "from matplotlib import pyplot\n",
    "\n",
    "dataset = \"https://thredds.nci.org.au/thredds/dodsC/fx3/model_data/gbr4_2.0.ncml\"\n",
    "\n",
    "dataset = ems.open_dataset(dataset).isel(time=-1)\n",
    "dataset = dataset.ems.select_variables(['botz', 'temp'])\n",
    "\n",
    "line = shapely.LineString([\n",
    "    [152.8417969, -24.8764699],\n",
    "    [152.5231934, -24.4571505],\n",
    "    [152.0507813, -23.9360549],\n",
    "    [151.4135742, -23.4430889],\n",
    "    [151.2597656, -22.8673180],\n",
    "    [150.8972168, -22.1365316],\n",
    "    [149.9853516, -21.6982655],\n",
    "    [149.5129395, -20.6841838],\n",
    "])\n",
    "landmarks = [\n",
    "    (\"Lady Elliot Island\", shapely.Point(152.7145958, -24.1129146)),\n",
    "    (\"Percy Isles National Park\", shapely.Point(150.2984619, -21.6982655)),\n",
    "    (\"Keswick Island\", shapely.Point(149.4059944, -20.9101345)),\n",
    "]"
   ]
  },
  {
   "cell_type": "markdown",
   "metadata": {},
   "source": [
    "\n",
    "\n",
    "We can visualise the transect path:\n"
   ]
  },
  {
   "cell_type": "code",
   "execution_count": null,
   "metadata": {},
   "outputs": [],
   "source": [
    "\n",
    "\n",
    "figure = pyplot.figure(figsize=(10, 10))\n",
    "dataset.ems.plot_on_figure(\n",
    "    figure, 'botz', title=\"Transect path\",\n",
    "    landmarks=landmarks, gridlines=False)\n",
    "\n",
    "axes = figure.axes[0]\n",
    "axes.set_aspect('equal', 'box')\n",
    "axes.set_extent(plot.bounds_to_extent(line.envelope.buffer(0.2).bounds))\n",
    "axes.plot(*line.coords.xy)\n",
    "\n",
    "pyplot.show()\n",
    "\n"
   ]
  },
  {
   "cell_type": "markdown",
   "metadata": {},
   "source": [
    "\n",
    "\n",
    "A transect showing the water temperature along this plot:\n"
   ]
  },
  {
   "cell_type": "code",
   "execution_count": null,
   "metadata": {},
   "outputs": [],
   "source": [
    "figure = transect.plot(\n",
    "    dataset, line, dataset[\"temp\"],\n",
    "    landmarks=landmarks,\n",
    "    bathymetry=dataset[\"botz\"])"
   ]
  },
  {
   "cell_type": "code",
   "execution_count": null,
   "metadata": {},
   "outputs": [],
   "source": []
  }
 ],
 "metadata": {
  "kernelspec": {
   "display_name": "Python 3 (ipykernel)",
   "language": "python",
   "name": "python3"
  },
  "language_info": {
   "codemirror_mode": {
    "name": "ipython",
    "version": 3
   },
   "file_extension": ".py",
   "mimetype": "text/x-python",
   "name": "python",
   "nbconvert_exporter": "python",
   "pygments_lexer": "ipython3",
   "version": "3.12.0"
  }
 },
 "nbformat": 4,
 "nbformat_minor": 4
}
