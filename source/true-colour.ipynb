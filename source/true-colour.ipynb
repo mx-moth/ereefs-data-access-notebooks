{
 "cells": [
  {
   "cell_type": "markdown",
   "metadata": {},
   "source": [
    "# Simulated True Colour from eReefs optical model variables\n",
    "\n",
    "The recent (BGC3p1 and later) eReefs Biogeochemistry and Sediments model results include variables that model the optical properties of the water column.   These are intended to simulate the [Remote Sensing Reflectance](https://vocab.nerc.ac.uk/collection/P01/current/RRSWMP01/) values seen by the Ocean and Land Colour (OLCI) instruments on the Sentinel-3A and Sentinel-3B Satellites, and are used by the eReefs team to validate the model.  \n",
    "\n",
    "eReefs also includes [True Colour datasets from the same remote sensing instruments](https://portal.ereefs.info/map?time=2022-11-30T10:00:00Z&bbox=87.1875,-43.54855,212.82715,11.7383&basemap=streetmap&dbl_layer=url=https://data.ereefs.info/dataset/item?uri=https%3A%2F%2Fwww.cmar.csiro.au%2Fgeoserver%2Frest%2Fworkspaces%2Fereefs%2Fcoveragestores%2FSentinel-3A-OLCI-GBR-RGBA_geotiffs_fs%2Fcoverages%2FSentinel-3A-OLCI-GBR.json%23Sentinel-3A-OLCI-GBR;id=https%3A%2F%2Fwww.cmar.csiro.au%2Fgeoserver%2Frest%2Fworkspaces%2Fereefs%2Fcoveragestores%2FSentinel-3A-OLCI-GBR-RGBA_geotiffs_fs%2Fcoverages%2FSentinel-3A-OLCI-GBR.json%23Sentinel-3A-OLCI-GBR;label=Sentinel-3A%20OLCI%20True%20Colour%20Composites;colorscalerange=undefined;styles=&dbl_layer=url=https://data.ereefs.info/dataset/item?uri=https%3A%2F%2Fwww.cmar.csiro.au%2Fgeoserver%2Frest%2Fworkspaces%2Fereefs%2Fcoveragestores%2FSentinel-3B-OLCI-GBR-RGBA_geotiffs_fs%2Fcoverages%2FSentinel-3B-OLCI-GBR.json%23Sentinel-3B-OLCI-GBR;id=https%3A%2F%2Fwww.cmar.csiro.au%2Fgeoserver%2Frest%2Fworkspaces%2Fereefs%2Fcoveragestores%2FSentinel-3B-OLCI-GBR-RGBA_geotiffs_fs%2Fcoverages%2FSentinel-3B-OLCI-GBR.json%23Sentinel-3B-OLCI-GBR;label=Sentinel-3B%20OLCI%20True%20Colour%20Composites;colorscalerange=undefined;styles=), which are derived from combinations of the Reflectance values.\n",
    "\n",
    "This notebook demonstrates how to apply the same algorithm to the Remote Sensing Reflectance variables in the model results to generate a Simulated True Colour image of the whole GBR with no pesky clouds in the way.\n",
    "\n",
    "---\n",
    "\n",
    "For this example, we start by including a number of libraries, including the [emsarray](https://emsarray.readthedocs.io/en/stable/) library that has been developed specifically to assist with access data in eReefs-style netCDF datasets:"
   ]
  },
  {
   "cell_type": "code",
   "execution_count": null,
   "metadata": {},
   "outputs": [],
   "source": [
    "import cartopy.crs\n",
    "import emsarray.plot\n",
    "import numpy\n",
    "import xarray\n",
    "import matplotlib.pyplot as plt\n",
    "from scipy.interpolate import interp1d"
   ]
  },
  {
   "cell_type": "markdown",
   "metadata": {},
   "source": [
    "We now define a funtion that can combine dataset variables that best represent red (645nm wavelength), green (555nm wavelength) and blue (470nm wavelength) into a coloured image.   \n",
    "This algorithm supports a couple of fudge factors to modify the brightness and saturation of the resulting image: see the comments in the code for instructions on how to apply those."
   ]
  },
  {
   "cell_type": "code",
   "execution_count": null,
   "metadata": {},
   "outputs": [],
   "source": [
    "def reflectance_to_rgb(\n",
    "    r_645: numpy.ndarray,\n",
    "    r_555: numpy.ndarray,\n",
    "    r_470: numpy.ndarray,\n",
    "    *,\n",
    "    bright_factor: float = 12.5,\n",
    "    desaturate_factor: float = 0.6,\n",
    ") -> numpy.ndarray:\n",
    "    \"\"\"\n",
    "    Take an array of radiance values and transform it in to true colour.\n",
    "    The colours are ramped a bit, desatureated, etc.\n",
    "\n",
    "    Parameters\n",
    "    ----------\n",
    "    r_645, r_555, r_470 : numpy.ndarray\n",
    "        Arrays representing the surface reflectance in wavelengths of \n",
    "        645 nm, 555 nm, and 470 nm respectively.\n",
    "        The arrays must be the same shape,\n",
    "        but can have any number of axes.\n",
    "    bright_factor : float\n",
    "        A multiplier that increases the brightness of the image.\n",
    "        Higher numbers are brighter.\n",
    "\n",
    "    Returns\n",
    "    -------\n",
    "    rgb: numpy.ndarray\n",
    "        An array the same shape as the input arrays\n",
    "        except for one extra axis of length 3.\n",
    "        The final axis represents RGB values suitable for plotting.\n",
    "        The values will be between 0 and 1.\n",
    "    \"\"\"\n",
    "\n",
    "    # setup our rgb array using the 3 vars\n",
    "    rgb = numpy.stack([r_645, r_555, r_470], axis=-1)\n",
    "    rgb = numpy.nan_to_num(rgb, nan=1)\n",
    "\n",
    "    # Some colour ramps\n",
    "    in_scale = numpy.array([0,  30,  60, 120, 190, 255], dtype=numpy.float64)\n",
    "    out_scale = numpy.array([0, 130, 160, 210, 240, 255], dtype=numpy.float64)\n",
    "\n",
    "    # I'm pulling the green channel down a bit\n",
    "    # as it looks more saturated than example\n",
    "    g_scale = out_scale - 50\n",
    "    g_scale[0] = 0\n",
    "    g_scale[5] = 255\n",
    "\n",
    "    in_scale = in_scale / 255.\n",
    "    out_scale = out_scale / 255.\n",
    "    g_scale = g_scale / 255.\n",
    "\n",
    "    # apply color channel enhancement\n",
    "    rgb[..., 0] = interp1d(in_scale, out_scale)(rgb[..., 0])\n",
    "    rgb[..., 1] = interp1d(in_scale, g_scale)(rgb[..., 1])\n",
    "    rgb[..., 2] = interp1d(in_scale, out_scale)(rgb[..., 2])\n",
    "\n",
    "    # turn brightness back up a bit\n",
    "    brighter = rgb * bright_factor\n",
    "\n",
    "    # Desaturate the image a bit by blending with a greyscale copy.\n",
    "    # The particulars here are how Pillows ImageEnhance.Color class operates.\n",
    "    #\n",
    "    # Convert to greyscale using the ITU-R 601-2 luma transform.\n",
    "    greyscale_value = (\n",
    "        brighter[..., 0] * 299/1000\n",
    "        + brighter[..., 1] * 587/1000\n",
    "        + brighter[..., 2] * 114/1000\n",
    "    )\n",
    "    greyscale = numpy.stack([greyscale_value] * 3, axis=-1)\n",
    "\n",
    "    # Blend with the original to get a desaturated image\n",
    "    desaturate_factor = 0.6\n",
    "    rgb = brighter * desaturate_factor + greyscale * (1 - desaturate_factor)\n",
    "\n",
    "    # Clip the values to the [0..1] interval\n",
    "    rgb = numpy.clip(rgb, 0, 1)\n",
    "\n",
    "    # Done!\n",
    "    return rgb"
   ]
  },
  {
   "cell_type": "markdown",
   "metadata": {},
   "source": [
    "We now access the model results by querying the OPeNDAP endpoint for any of the eReefs Biogeochemistry and Sediments datasets, and apply our simulated true colour algotithm to it.\n",
    "\n",
    "For this example, we are working with the [GBR4 Biogeochemistry and Sediments v3.1 near-real-time model results](https://marlin.csiro.au/geonetwork/srv/eng/catalog.search#/metadata/7bc0d1fc-d0e4-4c1a-956f-8f7cd1a6892d):"
   ]
  },
  {
   "cell_type": "code",
   "execution_count": null,
   "metadata": {},
   "outputs": [],
   "source": [
    "# Connect to the OPeNDAP endpoint for the dataset\n",
    "dataset = emsarray.open_dataset(\"https://dapds00.nci.org.au/thredds/dodsC/fx3/gbr4_bgc_GBR4_H2p0_B3p1_Cfur_Dnrt.ncml\")\n",
    "\n",
    "# Select the latest time step\n",
    "dataset = dataset.isel(time=-1)\n",
    "\n",
    "# Retrieve the RGB values that will make up our image\n",
    "rgb_values = reflectance_to_rgb(\n",
    "    dataset.ems.ravel(dataset['R_645']),\n",
    "    dataset.ems.ravel(dataset['R_555']),\n",
    "    dataset.ems.ravel(dataset['R_470']),\n",
    ")\n",
    "rgb_values = rgb_values[dataset.ems.mask]"
   ]
  },
  {
   "cell_type": "markdown",
   "metadata": {},
   "source": [
    "All that's left now is to render the image!  We will do so by using [Cartopy](https://scitools.org.uk/cartopy/docs/latest/) and [Matplotlib](https://matplotlib.org/) to plot the RGB data values on a map with gridlines:"
   ]
  },
  {
   "cell_type": "code",
   "execution_count": null,
   "metadata": {},
   "outputs": [],
   "source": [
    "fig = plt.figure(figsize=(6, 8))\n",
    "axes = fig.add_subplot(projection=cartopy.crs.PlateCarree())\n",
    "axes.set_aspect(aspect='equal', adjustable='datalim')\n",
    "\n",
    "plt.title(f\"Simulated true colour\\n{numpy.datetime_as_string(dataset['time'].values, 's')}\")\n",
    "axes.add_collection(dataset.ems.make_poly_collection(color=rgb_values))\n",
    "emsarray.plot.add_coast(axes)\n",
    "axes.gridlines(draw_labels=['left', 'bottom'])\n",
    "axes.autoscale()\n",
    "\n",
    "plt.show()"
   ]
  },
  {
   "cell_type": "code",
   "execution_count": null,
   "metadata": {},
   "outputs": [],
   "source": []
  }
 ],
 "metadata": {
  "kernelspec": {
   "display_name": "Python 3 (ipykernel)",
   "language": "python",
   "name": "python3"
  },
  "language_info": {
   "codemirror_mode": {
    "name": "ipython",
    "version": 3
   },
   "file_extension": ".py",
   "mimetype": "text/x-python",
   "name": "python",
   "nbconvert_exporter": "python",
   "pygments_lexer": "ipython3",
   "version": "3.12.0"
  }
 },
 "nbformat": 4,
 "nbformat_minor": 4
}
