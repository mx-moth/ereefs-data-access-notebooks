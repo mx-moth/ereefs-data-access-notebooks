{
 "cells": [
  {
   "cell_type": "markdown",
   "metadata": {},
   "source": [
    "# Animating eReefs Model Results\n",
    "\n",
    "This notebook demonstrates how to create some fun animations from eReefs model results.\n",
    "\n",
    "If you have not already perused them, good precursors to this example are the basic plotting example [plot.ipynb](./plot.ipynb). Please consider running that example first.\n",
    "\n",
    "---"
   ]
  },
  {
   "cell_type": "markdown",
   "metadata": {},
   "source": [
    "## Side quest: animating eReefs model results in the CSIRO eReefs Data Explorer\n",
    "\n",
    "The instructions in the [data-discovery](./data-discovery.ipynb) notebook explain how to use the data explorer to identify interesting eReefs model results variables. \n",
    "\n",
    "From where we left our map in those instructions, we have an ammonia layer added, and visualised:\n",
    "\n",
    "<img src=\"_static/003_plotted-1.png\" alt=\"screenshot of the ammonia layer from the GBR4_H2p0_B2p0_Chyd_Dcrt dataset in the data explorer\" style=\"align: left; max-width: 800px\"/>\n",
    "\n",
    "From this, you can generate an animation from within the web application by clicking the movie camera icon in the top right corner on our layer box. This should bring up an animation screen as shown below:\n",
    "\n",
    "<img src=\"_static/005_animation_ammonia.png\" alt=\"screenshot of an animation for the ammonia layer from the GBR4_H2p0_B2p0_Chyd_Dcrt dataset in the data explorer\" style=\"align: left; max-width: 800px\"/>"
   ]
  },
  {
   "cell_type": "markdown",
   "metadata": {},
   "source": [
    "## Animations in Python\n",
    "\n",
    "If the animations possible in the data explorer aren't quite what you're looking for, though, it is completely possible to use [emsarray](https://emsarray.readthedocs.io/en/stable/) to create complex animations from your python code.\n",
    "\n",
    "The examples below use an OPeNDAP endpoint of <https://dapds00.nci.org.au/thredds/dodsC/fx3/gbr4_bgc_GBR4_H2p0_B3p1_Cfur_Dnrt.ncml> which belongs to the [GBR4 Biogeochemistry and Sediments v3.1 near-real-time model results](https://marlin.csiro.au/geonetwork/srv/eng/catalog.search#/metadata/7bc0d1fc-d0e4-4c1a-956f-8f7cd1a6892d) dataset aggregation."
   ]
  },
  {
   "cell_type": "code",
   "execution_count": null,
   "metadata": {},
   "outputs": [],
   "source": [
    "# First, prepare the environment and access the dataset\n",
    "\n",
    "import datetime\n",
    "import emsarray\n",
    "import shapefile\n",
    "\n",
    "from matplotlib.figure import Figure\n",
    "from IPython.display import HTML\n",
    "\n",
    "%matplotlib notebook\n",
    "shapefile.VERBOSE = False\n",
    "\n",
    "dataset = emsarray.open_dataset('https://dapds00.nci.org.au/thredds/dodsC/fx3/gbr4_bgc_GBR4_H2p0_B3p1_Cfur_Dnrt.ncml')"
   ]
  },
  {
   "cell_type": "markdown",
   "metadata": {},
   "source": [
    "### Animate a horizontal layer over time\n",
    "\n",
    "Use emsarray to animate how the Total Chloropyll (Chl_a_sum) variable from the model results changes over time for a single depth."
   ]
  },
  {
   "cell_type": "code",
   "execution_count": null,
   "metadata": {},
   "outputs": [],
   "source": [
    "from emsarray.utils import datetime_from_np_time\n",
    "\n",
    "def make_title(np_time):\n",
    "    \"\"\"Generate a title for a frame of animation.\"\"\"\n",
    "    long_name = \"Total Chlorophyll at k=-3\"\n",
    "    py_time = datetime_from_np_time(np_time)\n",
    "    return f'{long_name}\\nTime: {py_time:%Y-%m-%d %H:%M}'\n",
    "\n",
    "# Constrain our dataset to just a subset of the thousands of available timesteps\n",
    "# (In this case, the most recent 20) And also a single depth (we are using k=-3)\n",
    "time_anim = dataset.isel(time=slice(-20, None), k=-3).ems.animate_on_figure(\n",
    "    figure=Figure(figsize=(8, 5), dpi=100),\n",
    "    scalar='Chl_a_sum', \n",
    "    coordinate='time',\n",
    "    title=make_title,\n",
    "    interval=100\n",
    ")\n",
    "\n",
    "# Render our animation to this notebook\n",
    "HTML(time_anim.to_jshtml())\n"
   ]
  },
  {
   "cell_type": "markdown",
   "metadata": {},
   "source": [
    "### Animate a horizontal layer over depth\n",
    "\n",
    "Because eReefs model results are multidimensional, we can also animate across axes *other* than time.\n",
    "\n",
    "Use emsarray to create an animation of how the Total Chlorophyll (Chl_a_sum) variable from the model results changes with depth for the last time in the dataset:"
   ]
  },
  {
   "cell_type": "code",
   "execution_count": null,
   "metadata": {},
   "outputs": [],
   "source": [
    "depth_anim = dataset.isel(time=-1).ems.animate_on_figure(\n",
    "    figure=Figure(figsize=(8, 5), dpi=100),\n",
    "    scalar='Chl_a_sum', \n",
    "    coordinate='k',\n",
    "    interval=100, \n",
    "    repeat='bounce'\n",
    ")\n",
    "\n",
    "# Render the depth animation to this notebook\n",
    "HTML(depth_anim.to_jshtml())\n"
   ]
  },
  {
   "cell_type": "markdown",
   "metadata": {},
   "source": [
    "### Animations in video format\n",
    "\n",
    "Animations can be rendered to video files in two different ways. Both approaches require ffmpeg to be installed. If you do not already have this installed, you can install it with:\n",
    "\n",
    "`conda install ffmpeg`\n",
    "\n",
    "#### Render your animation to embedded HTML5 video\n",
    "\n",
    "Working with the same depth-animation we created above:\n"
   ]
  },
  {
   "cell_type": "code",
   "execution_count": null,
   "metadata": {},
   "outputs": [],
   "source": [
    "HTML(depth_anim.to_html5_video())"
   ]
  },
  {
   "cell_type": "markdown",
   "metadata": {},
   "source": [
    "#### Render your animation to mp4\n",
    "\n",
    "Useful to export your animation to a file for offline use"
   ]
  },
  {
   "cell_type": "code",
   "execution_count": null,
   "metadata": {},
   "outputs": [],
   "source": [
    "import os.path\n",
    "animation_path = os.path.abspath('_static/gbr4_chl_depth_animation.mp4')\n",
    "depth_anim.save(animation_path, writer='ffmpeg_file')\n",
    "print(\"Saved to\", animation_path)"
   ]
  },
  {
   "cell_type": "markdown",
   "metadata": {},
   "source": [
    "And use that file as needed:"
   ]
  },
  {
   "cell_type": "code",
   "execution_count": null,
   "metadata": {},
   "outputs": [],
   "source": [
    "import IPython.display\n",
    "IPython.display.Video(animation_path, embed=True)"
   ]
  },
  {
   "cell_type": "code",
   "execution_count": null,
   "metadata": {},
   "outputs": [],
   "source": []
  }
 ],
 "metadata": {
  "kernelspec": {
   "display_name": "Python 3 (ipykernel)",
   "language": "python",
   "name": "python3"
  },
  "language_info": {
   "codemirror_mode": {
    "name": "ipython",
    "version": 3
   },
   "file_extension": ".py",
   "mimetype": "text/x-python",
   "name": "python",
   "nbconvert_exporter": "python",
   "pygments_lexer": "ipython3",
   "version": "3.12.0"
  },
  "nbsphinx": {
   "execute": "never"
  }
 },
 "nbformat": 4,
 "nbformat_minor": 4
}
