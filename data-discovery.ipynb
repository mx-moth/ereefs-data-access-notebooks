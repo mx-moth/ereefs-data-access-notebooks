{
 "cells": [
  {
   "cell_type": "markdown",
   "metadata": {},
   "source": [
    "# Discovering eReefs Datasets\n",
    "\n",
    "The other notebooks in this repository use data service URLs (mostly [OPeNDAP](https://www.opendap.org/) endpoints) to query the eReefs datasets from the locations they have been published to.\n",
    "\n",
    "The major benefit to this approach is that you don't have to download the data to work with it, or know how to join data from all the files in the data, you can just *query* the complete collection of files from a single URL!\n",
    "\n",
    "The trick, though, is knowing *which* URL to use!\n",
    "\n",
    "This notebook does not contain executable code, but is a description of the steps you can follow to find the data service URLs for any eReefs dataset.\n",
    "\n",
    "---"
   ]
  },
  {
   "cell_type": "markdown",
   "metadata": {},
   "source": [
    "- Start by navigating to the CSIRO eReefs Visualisation portal at <https://portal.ereefs.info> in your web browser.   \n",
    "- Click on the `Data Explorer` button on the landing page to see an empty map:\n",
    "  \n",
    "  <img src=\"Assets/ereefs_map.png\" alt=\"Screenshot of the eReefs data explorer\" style=\"align:left; max-width: 800px;\"/>\n",
    "\n",
    "&nbsp;\n",
    "\n",
    "- Click on the `Browse data` button in the top navigation bar to display a list of all known and accessible eReefs Datasets:\n",
    "\n",
    "  <img src=\"Assets/001_browse_data_catalogue.png\" alt=\"screenshot of the eReefs data browser in the eReefs data explorer\" style=\"align: left; max-width: 800px;\" />\n",
    "\n",
    "&nbsp;\n",
    "\n",
    "- Browse for the dataset you are interested in.\n",
    "  \n",
    "  This example assumes you have chosen to expand the `eReefs Regional Model Results` -> `eReefs GBR4 BGC and sediments GBR4_H2p0_B2p0_Chyd_Dcrt model data`  dataset:\n",
    "\n",
    "  <img src=\"Assets/002_ereefs_data.png\" alt=\"screenshot of the GBR4_H2p0_B2p0_Chyd_Dcrt dataset variables in the eReefs data browser\" style=\"align: left; max-width: 800px;\"/>\n",
    "\n",
    "&nbsp;\n",
    "\n",
    "- Decide on the model variable you are interested in, and click the `Add to map` button to see that variable plotted on a map and confirm that it is really the one you want:\n",
    "\n",
    "  For this example, we have chosen the `Ammonia (NH4)` variable:\n",
    "\n",
    "  <img src=\"Assets/003_plotted.png\" alt=\"screenshot of the mapped NH4 variable from the GBR4_H2p0_B2p0_Chyd_Dcrt dataset\" style=\"align: left; max-width: 800px\" />\n",
    "\n",
    "&nbsp;\n",
    "\n",
    "- You can now click on the small `information` icon in the layer information to access detailed information about this model variable:\n",
    "\n",
    "  <img src=\"Assets/004_get_opendap_link.png\" alt=\"Screen shot of layer information for NH4 variable from the GBR4_H2p0_B2p0_Chyd_Dcrt dataset\" style=\"align: left; max-width: 800px\"/>\n",
    "\n",
    "&nbsp; \n",
    "\n",
    "- To copy the OPeNDAP URL for the dataset collection, click the clipboard icon to the right of the `OPENDAP` button.\n",
    "\n",
    "- This will copy a URL like `https://thredds.nci.org.au/thredds/dodsC/fx3/model_data/gbr4_bgc_GBR4_H2p0_B2p0_Chyd_Dcrt.ncml.html` to your clipboard. You can use this URL in your browser to see a HTML webform which you can use to explore the attributes of all the variables in the dataset, and to retrieve subsets of the data in either ASCII or binary (netCDF) formats...\n",
    "\n",
    "- BUT what we want for all *these* examples is the part of the URL before the `.html` extension:\n",
    "\n",
    "  **The url you should use for calls to `emsarray.open_dataset` is just <https://thredds.nci.org.au/thredds/dodsC/fx3/model_data/gbr4_bgc_GBR4_H2p0_B2p0_Chyd_Dcrt.ncml>**\n"
   ]
  }
 ],
 "metadata": {
  "kernelspec": {
   "display_name": "Python 3 (ipykernel)",
   "language": "python",
   "name": "python3"
  },
  "language_info": {
   "codemirror_mode": {
    "name": "ipython",
    "version": 3
   },
   "file_extension": ".py",
   "mimetype": "text/x-python",
   "name": "python",
   "nbconvert_exporter": "python",
   "pygments_lexer": "ipython3",
   "version": "3.13.1"
  }
 },
 "nbformat": 4,
 "nbformat_minor": 4
}
