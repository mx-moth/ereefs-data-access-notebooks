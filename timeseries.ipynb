{
 "cells": [
  {
   "cell_type": "markdown",
   "metadata": {},
   "source": [
    "# Extract a timeseries from eReefs model results\n",
    "\n",
    "Some of our eReefs datasets include more than a 10-year timespan of simulation results, and are made up of one netCDF file for each day of the simulation.\n",
    "\n",
    "These examples show you how to extract a timeseries of a dataset variable at known locations within the model grid.\n",
    "\n",
    "---"
   ]
  },
  {
   "cell_type": "markdown",
   "metadata": {},
   "source": [
    "## Access the OPeNDAP endpoint URL for your dataset\n",
    "\n",
    "We begin by discovering the OPeNDAP endpoint URL for the published eReefs dataset that we want to plot variables from.  Make sure you are using one of the dataset aggregations, rather than the individual files if you want more than one day's worth of time information!\n",
    "\n",
    "If you don't know this already, then you can follow [these instructions](./data-discovery.ipynb) to use the CSIRO eReefs data explorer to discover the URL you need: all of the datasets shown in that applucation are aggregations.\n",
    "\n",
    "The URL we are using in these examples is <https://thredds.nci.org.au/thredds/dodsC/fx3/gbr4_bgc_GBR4_H2p0_B3p1_Cfur_Dnrt.ncml>, which is the OPeNDAP endpoint for the [GBR4 Biogeochemistry and Sediments v3.1 near-real-time model results](https://marlin.csiro.au/geonetwork/srv/eng/catalog.search#/metadata/7bc0d1fc-d0e4-4c1a-956f-8f7cd1a6892d).\n",
    "\n",
    "We will use [emsarray](https://emsarray.readthedocs.io/en/stable/) to help us query this dataset:"
   ]
  },
  {
   "cell_type": "markdown",
   "metadata": {},
   "source": [
    "# Prepare to create some plots later in this notebook"
   ]
  },
  {
   "cell_type": "code",
   "execution_count": null,
   "metadata": {},
   "outputs": [],
   "source": [
    "# This makes the figures nice and big for this notebook\n",
    "from matplotlib import pyplot\n",
    "pyplot.rcParams['figure.dpi'] = 100\n",
    "pyplot.rcParams['figure.figsize'] = (8, 5)\n",
    "pyplot.rcParams['savefig.dpi'] = 100\n"
   ]
  },
  {
   "cell_type": "code",
   "execution_count": null,
   "metadata": {},
   "outputs": [],
   "source": [
    "import emsarray\n",
    "\n",
    "# Access the dataset\n",
    "dataset = emsarray.open_dataset(\"https://thredds.nci.org.au/thredds/dodsC/fx3/gbr4_bgc_GBR4_H2p0_B3p1_Cfur_Dnrt.ncml\")\n",
    "\n",
    "\n",
    "# Filter the dataset to just the variables we are interested in:\n",
    "# Chl_a_sum => Total Chlorophyll\n",
    "# NH4 => Ammonia\n",
    "dataset = dataset.ems.select_variables(['Chl_a_sum', 'NH4'])\n",
    "\n",
    "\n",
    "# We can speed up future operations by limiting the timesteps to just the range we are interested in\n",
    "# This step is optional, and is here only to make the demonstration speedy.\n",
    "# Choosing the most recent 10 timesteps:\n",
    "dataset = dataset.isel(time=slice(-10, None))\n"
   ]
  },
  {
   "cell_type": "markdown",
   "metadata": {},
   "source": [
    "## Identify the spatial points you are interested in\n",
    "\n",
    "We're going to use a location in Hervey Bay"
   ]
  },
  {
   "cell_type": "code",
   "execution_count": null,
   "metadata": {},
   "outputs": [],
   "source": [
    "import shapely\n",
    "\n",
    "# Filter the dataset down to only contain information for our point\n",
    "hervey_bay = shapely.Point(152.888677, -25.020682)\n",
    "hervey_bay_dataset = dataset.ems.select_point(hervey_bay)\n",
    "\n",
    "# The filtered dataset should now only contain time and depth dimensions:\n",
    "print('Extracted point data for Hervey Bay:', hervey_bay_dataset)\n"
   ]
  },
  {
   "cell_type": "markdown",
   "metadata": {},
   "source": [
    "## Extract a timeseries at a single known elevation\n",
    "\n",
    "If you only want information at one elevation index, then you can filter the dataset down even further before turning it into a JSON array that can be easily plotted:"
   ]
  },
  {
   "cell_type": "code",
   "execution_count": null,
   "metadata": {},
   "outputs": [],
   "source": [
    "import numpy\n",
    "\n",
    "hervey_bay_single = hervey_bay_dataset.isel(k=-3)\n",
    "hervey_bay_timesteps = numpy.datetime_as_string(hervey_bay_single['time'].values)\n",
    "hervey_bay_chl = hervey_bay_single['Chl_a_sum'].values\n",
    "\n",
    "hervey_bay_figure1 = pyplot.figure()\n",
    "pyplot.plot(hervey_bay_timesteps, hervey_bay_chl, color='green')\n",
    "pyplot.title('Hervey Bay total chlorophyll for k=-3 (mg Chl m-3)')\n",
    "pyplot.xticks(rotation=30)\n",
    "hervey_bay_figure1.show()\n"
   ]
  },
  {
   "cell_type": "markdown",
   "metadata": {},
   "source": [
    "## Statistical analysis of the extracted data\n",
    "\n",
    "It is also possible to process the data before extracting the timeseries.  In this case, we go back to working with all the possible depths at our point."
   ]
  },
  {
   "cell_type": "code",
   "execution_count": null,
   "metadata": {},
   "outputs": [],
   "source": [
    "# Working with the Secchi depth for this one, but all possible depths\n",
    "hervey_bay_nh4 = hervey_bay_dataset['NH4']\n",
    "\n",
    "# Hervey Bay is shallow, so most of the deep cells will be below the ocean floor.\n",
    "# These cells will be filled with 'nan'.\n",
    "# This will slice off all the data that is nan leaving only cells with values\n",
    "deepest_index = numpy.where(numpy.isnan(hervey_bay_nh4.isel(time=0).values))[0][-1] + 1\n",
    "hervey_bay_nh4 = hervey_bay_nh4.isel(k=slice(deepest_index, None))\n",
    "\n",
    "# Find the average ammonia concentration across time for each depth\n",
    "mean_nh4 = hervey_bay_nh4.mean('time')\n",
    "\n",
    "# Plot the mean ammonia concentration by depth\n",
    "hervey_bay_figure2 = pyplot.figure()\n",
    "pyplot.title('Mean ammonia concentration by depth at Hervey Bay')\n",
    "pyplot.ylabel('Depth (m)')\n",
    "pyplot.xlabel('Ammonia (mg N m-3)')\n",
    "pyplot.plot(mean_nh4.values, mean_nh4.coords['zc'].values)\n",
    "hervey_bay_figure2.show()"
   ]
  }
 ],
 "metadata": {
  "kernelspec": {
   "display_name": "Python 3 (ipykernel)",
   "language": "python",
   "name": "python3"
  },
  "language_info": {
   "codemirror_mode": {
    "name": "ipython",
    "version": 3
   },
   "file_extension": ".py",
   "mimetype": "text/x-python",
   "name": "python",
   "nbconvert_exporter": "python",
   "pygments_lexer": "ipython3",
   "version": "3.13.1"
  }
 },
 "nbformat": 4,
 "nbformat_minor": 4
}
