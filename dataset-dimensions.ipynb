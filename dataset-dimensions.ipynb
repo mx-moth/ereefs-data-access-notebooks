{
 "cells": [
  {
   "cell_type": "markdown",
   "metadata": {},
   "source": [
    "# Discovering eReefs dataset dimensions\n",
    "\n",
    "This example demonstrates how to extract information about the spatial and temporal dimensions of an eReefs dataset.  The results translate the (i,j) curvilinear grid cell indexes into longitude and latitude, and "
   ]
  },
  {
   "cell_type": "markdown",
   "metadata": {},
   "source": [
    "## Access the OPeNDAP endpoint URL for your dataset\n",
    "\n",
    "We begin by discovering the OPeNDAP endpoint URL for the published eReefs dataset that we want to interrogate.\n",
    "\n",
    "If you don't know this already, then you can follow [these instructions](./data-discovery.ipynb) to use the CSIRO eReefs data explorer to discover the URL you need.\n",
    "\n",
    "The URL we are using in these examples is <https://dapds00.nci.org.au/thredds/dodsC/fx3/gbr4_v2/gbr4_simple_2023-10-20.nc>, which is the OPeNDAP endpoint for a single day (October 20, 2023) of the [GBR4 Hydrodynamics v2.0 near-real-time model results](https://marlin.csiro.au/geonetwork/srv/eng/catalog.search#/metadata/72020224-f086-434a-bbe9-a222c8e5cf0d).\n",
    "\n",
    "The example would also work fine with the full aggregation of that dataset:  we've just chosen the smaller subset to limit the size of the results that get dumped to the output of this notebook.\n",
    "\n",
    "We will use [emsarray](https://emsarray.readthedocs.io/en/stable/) to help us query this dataset:"
   ]
  },
  {
   "cell_type": "code",
   "execution_count": null,
   "metadata": {},
   "outputs": [],
   "source": [
    "\n",
    "import emsarray\n",
    "\n",
    "# Access the dataset\n",
    "dataset = emsarray.open_dataset(\"https://dapds00.nci.org.au/thredds/dodsC/fx3/gbr4_v2/gbr4_simple_2023-10-20.nc\")\n"
   ]
  },
  {
   "cell_type": "markdown",
   "metadata": {},
   "source": [
    "## Spatial Bounds\n",
    "\n",
    "Discovering the 2D spatial bounds is very simple!\n",
    "\n",
    "Under the hood, `emsarray` is combining the `i` curvilinear grid-cell coordinate with the `longitude` variable, and the `j` coordinate with the `latitude` variable.\n"
   ]
  },
  {
   "cell_type": "code",
   "execution_count": null,
   "metadata": {},
   "outputs": [],
   "source": [
    "bounds = dict(zip(['xmin_west', 'ymin_south', 'xmax_east', 'ymax_north'], dataset.ems.bounds))\n",
    "bounds\n"
   ]
  },
  {
   "cell_type": "markdown",
   "metadata": {},
   "source": [
    "## Elevations\n",
    "\n",
    "The third spatial dimention is elevation (or depth). eReefs models have a discreete set of valid elevations, all measured in metres, and an elevation of `0` is sea level.\n",
    "\n",
    "In the netCDF eReefs results, this is the `k` dimension-index combined with the `zc` variable."
   ]
  },
  {
   "cell_type": "code",
   "execution_count": null,
   "metadata": {},
   "outputs": [],
   "source": [
    "elevation_variables = dataset.ems.get_all_depth_names()\n",
    "elevation_result = {}\n",
    "\n",
    "for elevation_variable in elevation_variables:\n",
    "        if elevation_variable in dataset.variables:\n",
    "            elevation_result[elevation_variable] = dataset[elevation_variable].values.tolist()\n",
    "\n",
    "elevation_result\n"
   ]
  },
  {
   "cell_type": "markdown",
   "metadata": {},
   "source": [
    "## Time Periods\n",
    "\n",
    "Discover the available time periods for this dataset.\n",
    "\n",
    "The netCDF model results store time-dimension information as the number of days since 1990-01-01 00:00:00 +10.  This example translates those indices to ISO-formatted date strings."
   ]
  },
  {
   "cell_type": "code",
   "execution_count": null,
   "metadata": {},
   "outputs": [],
   "source": [
    "import numpy\n",
    "import pandas\n",
    "\n",
    "time_values =  dataset.ems.time_coordinate\n",
    "\n",
    "# Check we have more than one timestep!\n",
    "assert len(time_values) > 1\n",
    "\n",
    "# Round to the nearest minute to take care of rounding issues.\n",
    "# (None of the eReefs model results have a time resolution higher than this)\n",
    "differences = numpy.ediff1d(time_values)\n",
    "differences = differences.astype('timedelta64[m]')\n",
    "previous_diff = None\n",
    "period_start = time_values[0]\n",
    "\n",
    "# identify the time periods\n",
    "time_periods: list[tuple[numpy.datetime64, numpy.datetime64, numpy.timedelta64]] = []\n",
    "for i, next_diff in enumerate(differences):\n",
    "    if previous_diff is None:\n",
    "        previous_diff = next_diff\n",
    "\n",
    "    if previous_diff != next_diff:\n",
    "        time_periods.append((period_start, time_values[i], previous_diff))\n",
    "        period_start = time_values[i + 1]\n",
    "        previous_diff = None\n",
    "\n",
    "    # close off current period\n",
    "    time_periods.append((period_start, time_values[-1], next_diff))\n",
    "\n",
    "# Format the time periods in to 'start/stop/step' format\n",
    "time_results = [\n",
    "    '/'.join([\n",
    "        numpy.datetime_as_string(start, unit='s'),\n",
    "        numpy.datetime_as_string(end, unit='s'),\n",
    "        pandas.Timedelta(diff).isoformat(),\n",
    "    ])\n",
    "    for start, end, diff in time_periods\n",
    "]\n",
    "\n",
    "time_results\n"
   ]
  },
  {
   "cell_type": "code",
   "execution_count": null,
   "metadata": {},
   "outputs": [],
   "source": []
  }
 ],
 "metadata": {
  "kernelspec": {
   "display_name": "Python 3 (ipykernel)",
   "language": "python",
   "name": "python3"
  },
  "language_info": {
   "codemirror_mode": {
    "name": "ipython",
    "version": 3
   },
   "file_extension": ".py",
   "mimetype": "text/x-python",
   "name": "python",
   "nbconvert_exporter": "python",
   "pygments_lexer": "ipython3",
   "version": "3.12.0"
  }
 },
 "nbformat": 4,
 "nbformat_minor": 4
}
