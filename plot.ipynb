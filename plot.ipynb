{
 "cells": [
  {
   "cell_type": "markdown",
   "metadata": {},
   "source": [
    "# Plotting eReefs model results\n",
    "\n",
    "This tutorial is derived from the [similar one in the emsarray-notebooks repository](https://github.com/csiro-coasts/emsarray-notebooks/blob/master/plot.ipynb).  It has been tweaked to use eReefs datasets accessed directly from the data services they have been published to for all the examples, rather than using local data files or datasets from other sources. \n",
    "\n",
    "---"
   ]
  },
  {
   "cell_type": "markdown",
   "metadata": {},
   "source": [
    "## Access the OPeNDAP endpoint URL for your dataset\n",
    "\n",
    "We begin by discovering the OPeNDAP endpoint URL for the published eReefs dataset that we want to plot variables from.\n",
    "\n",
    "If you don't know this already, then you can follow [these instructions](./data-discovery.ipynb) to use the CSIRO eReefs data explorer to discover the URL you need.\n",
    "\n",
    "The URL we are using in these examples is <https://thredds.nci.org.au/thredds/dodsC/fx3/gbr4_bgc_GBR4_H2p0_B3p1_Cfur_Dnrt.ncml>, which is the OPeNDAP endpoint for the [GBR4 Biogeochemistry and Sediments v3.1 near-real-time model results](https://marlin.csiro.au/geonetwork/srv/eng/catalog.search#/metadata/7bc0d1fc-d0e4-4c1a-956f-8f7cd1a6892d).\n",
    "\n",
    "We will use [emsarray](https://emsarray.readthedocs.io/en/stable/) to help us query this dataset:"
   ]
  },
  {
   "cell_type": "code",
   "execution_count": null,
   "metadata": {},
   "outputs": [],
   "source": [
    "import emsarray\n",
    "\n",
    "# Access the dataset\n",
    "dataset = emsarray.open_dataset(\"https://thredds.nci.org.au/thredds/dodsC/fx3/gbr4_bgc_GBR4_H2p0_B3p1_Cfur_Dnrt.ncml\")\n",
    "\n",
    "# Filter the dataset to a selected timestamp and depth\n",
    "# (In this case, the most recent time and the third-highest depth)\n",
    "dataset = dataset.isel(time=-1, k=-3)"
   ]
  },
  {
   "cell_type": "code",
   "execution_count": null,
   "metadata": {},
   "outputs": [],
   "source": [
    "## Prepare our plotting environment"
   ]
  },
  {
   "cell_type": "code",
   "execution_count": null,
   "metadata": {},
   "outputs": [],
   "source": [
    "# This makes the figures nice and big for this notebook\n",
    "from matplotlib import pyplot\n",
    "pyplot.rcParams['figure.dpi'] = 100\n",
    "pyplot.rcParams['figure.figsize'] = (8, 5)\n",
    "pyplot.rcParams['savefig.dpi'] = 100"
   ]
  },
  {
   "cell_type": "code",
   "execution_count": null,
   "metadata": {},
   "outputs": [],
   "source": [
    "# The coastlines used in the maps have some bad polygons,\n",
    "# which causes some warnings. Lets turn those off.\n",
    "import shapefile\n",
    "shapefile.VERBOSE = False"
   ]
  },
  {
   "cell_type": "markdown",
   "metadata": {},
   "source": [
    "## Plot an eReefs dataset variable on a map\n",
    "\n",
    " Plot the `Total Chlorophyll (Chl_a_sum)` variable from our dataset on a map with coastlines overlayed. \n",
    " A colour ramp will be applied and automatically scaled to the range of the data.\n",
    "\n",
    " See the [emsarray documentation](https://emsarray.readthedocs.io/en/stable/api/conventions/interface/#emsarray.conventions.Convention.make_poly_collection) for more information about the `make_poly_collection` function called here."
   ]
  },
  {
   "cell_type": "code",
   "execution_count": null,
   "metadata": {},
   "outputs": [],
   "source": [
    "import cartopy\n",
    "import numpy\n",
    "\n",
    "# Set up the figure\n",
    "chl_figure = pyplot.figure(figsize=(6, 8))\n",
    "axes = chl_figure.add_subplot(projection=cartopy.crs.PlateCarree())\n",
    "axes.set_aspect('equal', adjustable='datalim')\n",
    "\n",
    "# Add the total chlorophyll variable to the figure\n",
    "chl = dataset.ems.make_poly_collection('Chl_a_sum')\n",
    "axes.add_collection(chl)\n",
    "axes.autoscale()\n",
    "axes.set_title(f\"Total Chlorophyll\\n{numpy.datetime_as_string(dataset['time'].values, 's')}\")\n",
    "chl_figure.colorbar(chl, label='mg Chl m-3')\n",
    "\n",
    "# Add a coastline overlay\n",
    "emsarray.plot.add_coast(axes, zorder=1)\n",
    "\n",
    "# Add gridlines\n",
    "axes.gridlines(draw_labels=['left', 'bottom'])\n",
    "\n",
    "print(\"Plotting total chlorophyll\")"
   ]
  },
  {
   "cell_type": "markdown",
   "metadata": {},
   "source": [
    "## Zoom in to an area of interest\n",
    "\n",
    "Make a figure similar to the one above that displays the [Secchi depth](http://vocab.nerc.ac.uk/collection/P07/current/CFV13N21/) for the region around Mackay and also adds some landmarks:"
   ]
  },
  {
   "cell_type": "code",
   "execution_count": null,
   "metadata": {},
   "outputs": [],
   "source": [
    "# We'll need an extra library for this one\n",
    "import shapely\n",
    "\n",
    "# Set up the figure\n",
    "mackay_figure = pyplot.figure(figsize=(6, 8), dpi=100)\n",
    "mackay_axes = mackay_figure.add_subplot(projection=cartopy.crs.PlateCarree())\n",
    "mackay_axes.set_aspect('equal', adjustable='datalim')\n",
    "\n",
    "# Add the Secchi depth variable\n",
    "secchi = dataset.ems.make_poly_collection('Secchi')\n",
    "mackay_axes.add_collection(secchi)\n",
    "mackay_axes.autoscale()\n",
    "mackay_axes.set_title(f\"Secchi depth around Mackay\\n{numpy.datetime_as_string(dataset['time'].values, 's')}\")\n",
    "mackay_figure.colorbar(secchi, label='m')\n",
    "\n",
    "# Zoom in to the area around Mackay on the area of interest\n",
    "# (autoscale undoes that, so we do this after that)\n",
    "mackay_axes.set_extent((148.245710, 151.544167, -19.870197, -21.986412))\n",
    "\n",
    "# Add a coastline overlay\n",
    "emsarray.plot.add_coast(mackay_axes, zorder=1)\n",
    "\n",
    "# Add gridlines\n",
    "mackay_axes.gridlines(draw_labels=['left', 'bottom'])\n",
    "\n",
    "# Add annotations for some landmark locations\n",
    "emsarray.plot.add_landmarks(mackay_axes, [\n",
    "    ('The Percy Group', shapely.Point(150.270579, -21.658269)),\n",
    "    ('Whitsundays', shapely.Point(148.955319, -20.169076)),\n",
    "    ('Mackay', shapely.Point(149.192671, -21.146719)),\n",
    "])\n",
    "\n",
    "print(\"Plotting secchi depth around Mackay\")"
   ]
  }
 ],
 "metadata": {
  "kernelspec": {
   "display_name": "Python 3 (ipykernel)",
   "language": "python",
   "name": "python3"
  },
  "language_info": {
   "codemirror_mode": {
    "name": "ipython",
    "version": 3
   },
   "file_extension": ".py",
   "mimetype": "text/x-python",
   "name": "python",
   "nbconvert_exporter": "python",
   "pygments_lexer": "ipython3",
   "version": "3.13.1"
  }
 },
 "nbformat": 4,
 "nbformat_minor": 4
}
